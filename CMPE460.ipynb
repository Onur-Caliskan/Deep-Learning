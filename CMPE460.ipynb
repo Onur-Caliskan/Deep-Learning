{
  "nbformat": 4,
  "nbformat_minor": 0,
  "metadata": {
    "colab": {
      "provenance": [],
      "authorship_tag": "ABX9TyOOa3x+kBtizEm/4oXDBn2l",
      "include_colab_link": true
    },
    "kernelspec": {
      "name": "python3",
      "display_name": "Python 3"
    },
    "language_info": {
      "name": "python"
    }
  },
  "cells": [
    {
      "cell_type": "markdown",
      "metadata": {
        "id": "view-in-github",
        "colab_type": "text"
      },
      "source": [
        "<a href=\"https://colab.research.google.com/github/Onur-Caliskan/Deep-Learning/blob/main/CMPE460.ipynb\" target=\"_parent\"><img src=\"https://colab.research.google.com/assets/colab-badge.svg\" alt=\"Open In Colab\"/></a>"
      ]
    },
    {
      "cell_type": "code",
      "execution_count": null,
      "metadata": {
        "id": "r4NcvR9ppd86"
      },
      "outputs": [],
      "source": [
        "import numpy as np\n",
        "\n",
        "import matplotlib.pyplot as plt\n",
        "import seaborn as sns\n",
        "\n",
        "from sklearn.metrics import confusion_matrix\n",
        "\n",
        "import tensorflow as tf\n",
        "from tensorflow import keras\n",
        "\n",
        "import matplotlib.pyplot as plt\n",
        "import matplotlib.image as mpimg\n",
        "import pandas as pd\n",
        "import os\n",
        "import tensorflow as tf"
      ]
    },
    {
      "cell_type": "code",
      "source": [
        "from google.colab import drive\n",
        "drive.mount('/content/drive')"
      ],
      "metadata": {
        "colab": {
          "base_uri": "https://localhost:8080/"
        },
        "id": "0tfNjXm8xX8s",
        "outputId": "3ea2d32f-5302-4770-ce43-e6d27668aa01"
      },
      "execution_count": null,
      "outputs": [
        {
          "output_type": "stream",
          "name": "stdout",
          "text": [
            "Drive already mounted at /content/drive; to attempt to forcibly remount, call drive.mount(\"/content/drive\", force_remount=True).\n"
          ]
        }
      ]
    },
    {
      "cell_type": "code",
      "source": [
        "train_dir = '/content/drive/MyDrive/CMPE460/train'\n",
        "val_dir = '/content/drive/MyDrive/CMPE460/val'\n",
        "test_dir = '/content/drive/MyDrive/CMPE460/test'"
      ],
      "metadata": {
        "id": "jlAACe8zpkHk"
      },
      "execution_count": null,
      "outputs": []
    },
    {
      "cell_type": "code",
      "source": [
        "IMG_HEIGHT = 224\n",
        "IMG_WIDTH = 224\n",
        "BATCH_SIZE=32\n",
        "#Adjust photos in pixels"
      ],
      "metadata": {
        "id": "kXMkYaWJpkKA"
      },
      "execution_count": null,
      "outputs": []
    },
    {
      "cell_type": "code",
      "source": [],
      "metadata": {
        "id": "bxtq0Rk66eJi"
      },
      "execution_count": null,
      "outputs": []
    },
    {
      "cell_type": "code",
      "source": [
        "train_datagen = tf.keras.preprocessing.image.ImageDataGenerator(\n",
        "    rescale = 1./255,\n",
        "    rotation_range = 20,\n",
        "    brightness_range = (1.2, 1.5),\n",
        "    horizontal_flip = True\n",
        ")\n",
        "val_datagen = tf.keras.preprocessing.image.ImageDataGenerator(\n",
        "    rescale = 1./255\n",
        ")\n",
        "test_datagen = tf.keras.preprocessing.image.ImageDataGenerator(\n",
        "    rescale = 1./255\n",
        ")\n",
        "#Scaled the sets (train set, validation set and test set)"
      ],
      "metadata": {
        "id": "9-Z6tNJopkMK"
      },
      "execution_count": null,
      "outputs": []
    },
    {
      "cell_type": "code",
      "source": [
        "train_data = train_datagen.flow_from_directory(\n",
        "    train_dir,\n",
        "    target_size=(IMG_HEIGHT, IMG_WIDTH),\n",
        "    class_mode='binary',\n",
        "    batch_size=BATCH_SIZE\n",
        ")\n",
        "val_data = train_datagen.flow_from_directory(\n",
        "    val_dir,\n",
        "    target_size=(IMG_HEIGHT, IMG_WIDTH),\n",
        "    class_mode='binary',\n",
        "    batch_size=BATCH_SIZE\n",
        ")\n",
        "test_data = train_datagen.flow_from_directory(\n",
        "    test_dir,\n",
        "    target_size=(IMG_HEIGHT, IMG_WIDTH),\n",
        "    class_mode='binary',\n",
        "    batch_size=BATCH_SIZE\n",
        ")\n",
        "\n",
        "#In this cell, we adjust the dimensions of the train set, validation set and test set in pixels and classify the photos as binary"
      ],
      "metadata": {
        "colab": {
          "base_uri": "https://localhost:8080/"
        },
        "id": "p-Um-JJT6g_w",
        "outputId": "674ba59a-9e86-4011-b150-08bd4a4c1088"
      },
      "execution_count": null,
      "outputs": [
        {
          "output_type": "stream",
          "name": "stdout",
          "text": [
            "Found 1035 images belonging to 2 classes.\n",
            "Found 319 images belonging to 2 classes.\n",
            "Found 776 images belonging to 2 classes.\n"
          ]
        }
      ]
    },
    {
      "cell_type": "code",
      "source": [],
      "metadata": {
        "colab": {
          "base_uri": "https://localhost:8080/"
        },
        "id": "GQQuT3qmL54C",
        "outputId": "dd842dfd-b94f-44f8-bbaf-010922dbdbaf"
      },
      "execution_count": null,
      "outputs": [
        {
          "output_type": "stream",
          "name": "stdout",
          "text": [
            "<keras.preprocessing.image.DirectoryIterator object at 0x7fb4d5ad1a60>\n"
          ]
        }
      ]
    },
    {
      "cell_type": "code",
      "source": [],
      "metadata": {
        "id": "TvbhYnSKL6Az"
      },
      "execution_count": null,
      "outputs": []
    },
    {
      "cell_type": "code",
      "source": [
        "img = mpimg.imread('/content/drive/MyDrive/CMPE460/test/Covid/COVID-2.png')\n",
        "imgplot = plt.imshow(img)\n",
        "plt.show()\n",
        "\n",
        "#Example photo of datasets"
      ],
      "metadata": {
        "colab": {
          "base_uri": "https://localhost:8080/",
          "height": 269
        },
        "id": "mYRCs2npprLu",
        "outputId": "30f5adff-626c-498a-fafc-c2bab9e74bbd"
      },
      "execution_count": null,
      "outputs": [
        {
          "output_type": "display_data",
          "data": {
            "text/plain": [
              "<Figure size 432x288 with 1 Axes>"
            ],
            "image/png": "[encoded data removed]"
          },
          "metadata": {
            "needs_background": "light"
          }
        }
      ]
    },
    {
      "cell_type": "code",
      "source": [
        "model = tf.keras.applications.MobileNetV2()\n",
        "print(model)"
      ],
      "metadata": {
        "id": "rvYu3KxWprNY",
        "colab": {
          "base_uri": "https://localhost:8080/"
        },
        "outputId": "526d9a86-7405-4b27-ed8a-b62f7defe2a9"
      },
      "execution_count": null,
      "outputs": [
        {
          "output_type": "stream",
          "name": "stdout",
          "text": [
            "Downloading data from https://storage.googleapis.com/tensorflow/keras-applications/mobilenet_v2/mobilenet_v2_weights_tf_dim_ordering_tf_kernels_1.0_224.h5\n",
            "14536120/14536120 [==============================] - 0s 0us/step\n",
            "<keras.engine.functional.Functional object at 0x7fb4d8391c40>\n"
          ]
        }
      ]
    },
    {
      "cell_type": "code",
      "source": [
        "mobilenet = tf.keras.applications.MobileNetV2(\n",
        "    input_shape=(IMG_HEIGHT, IMG_WIDTH, 3),\n",
        "    include_top=False,\n",
        "    weights='imagenet',\n",
        "    pooling='avg'\n",
        ")\n",
        "mobilenet.trainable = False"
      ],
      "metadata": {
        "id": "TBNNx4JnprPi",
        "colab": {
          "base_uri": "https://localhost:8080/"
        },
        "outputId": "a6a767ca-56b1-40ec-87d9-36e98823f96c"
      },
      "execution_count": null,
      "outputs": [
        {
          "output_type": "stream",
          "name": "stdout",
          "text": [
            "Downloading data from https://storage.googleapis.com/tensorflow/keras-applications/mobilenet_v2/mobilenet_v2_weights_tf_dim_ordering_tf_kernels_1.0_224_no_top.h5\n",
            "9406464/9406464 [==============================] - 0s 0us/step\n"
          ]
        }
      ]
    },
    {
      "cell_type": "code",
      "source": [
        "inputs = tf.keras.Input(shape=(IMG_HEIGHT, IMG_WIDTH, 3))\n",
        "pretrained_model=mobilenet(inputs, training=False)\n",
        "dense = tf.keras.layers.Dense(1024, activation='relu')(pretrained_model)\n",
        "outputs = tf.keras.layers.Dense(1, activation='sigmoid')(dense)\n",
        "model = tf.keras.Model(inputs, outputs)\n",
        "print(model.summary())\n",
        "#Inputs, outputs, dense and summary of all model"
      ],
      "metadata": {
        "id": "nWtuiqrDprRR",
        "colab": {
          "base_uri": "https://localhost:8080/"
        },
        "outputId": "8f874375-4266-444b-ee58-02a7c03461a1"
      },
      "execution_count": null,
      "outputs": [
        {
          "output_type": "stream",
          "name": "stdout",
          "text": [
            "Model: \"model\"\n",
            "_________________________________________________________________\n",
            " Layer (type)                Output Shape              Param #   \n",
            "=================================================================\n",
            " input_3 (InputLayer)        [(None, 224, 224, 3)]     0         \n",
            "                                                                 \n",
            " mobilenetv2_1.00_224 (Funct  (None, 1280)             2257984   \n",
            " ional)                                                          \n",
            "                                                                 \n",
            " dense (Dense)               (None, 1024)              1311744   \n",
            "                                                                 \n",
            " dense_1 (Dense)             (None, 1)                 1025      \n",
            "                                                                 \n",
            "=================================================================\n",
            "Total params: 3,570,753\n",
            "Trainable params: 1,312,769\n",
            "Non-trainable params: 2,257,984\n",
            "_________________________________________________________________\n",
            "None\n"
          ]
        }
      ]
    },
    {
      "cell_type": "code",
      "source": [
        "EPOCHS = 50\n",
        "\n",
        "model.compile(\n",
        "    optimizer='adam',\n",
        "    loss='binary_crossentropy',\n",
        "    metrics=[\n",
        "             'accuracy',\n",
        "             tf.keras.metrics.AUC(name='auc')\n",
        "    ]\n",
        ")\n",
        "\n",
        "history = model.fit(\n",
        "    train_data,\n",
        "    validation_data=val_data,\n",
        "    batch_size=BATCH_SIZE,\n",
        "    epochs=EPOCHS,\n",
        "    callbacks=[\n",
        "               tf.keras.callbacks.EarlyStopping(\n",
        "                   monitor='val_loss',\n",
        "                   patience=3,\n",
        "                   restore_best_weights=True\n",
        "               )\n",
        "    ]\n",
        ")\n",
        "\n",
        "#AUC represents the decomposable measure or degree of parameters."
      ],
      "metadata": {
        "id": "k4WZ4-LqprT4",
        "colab": {
          "base_uri": "https://localhost:8080/"
        },
        "outputId": "e581b936-e10d-4158-f988-45dcca5d9bfd"
      },
      "execution_count": null,
      "outputs": [
        {
          "output_type": "stream",
          "name": "stdout",
          "text": [
            "Epoch 1/50\n",
            "33/33 [==============================] - 244s 7s/step - loss: 0.2511 - accuracy: 0.9198 - auc: 0.9698 - val_loss: 0.0439 - val_accuracy: 0.9875 - val_auc: 1.0000\n",
            "Epoch 2/50\n",
            "33/33 [==============================] - 58s 2s/step - loss: 0.0890 - accuracy: 0.9671 - auc: 0.9928 - val_loss: 0.0528 - val_accuracy: 0.9875 - val_auc: 0.9995\n",
            "Epoch 3/50\n",
            "33/33 [==============================] - 56s 2s/step - loss: 0.0506 - accuracy: 0.9816 - auc: 0.9977 - val_loss: 0.0218 - val_accuracy: 0.9969 - val_auc: 1.0000\n",
            "Epoch 4/50\n",
            "33/33 [==============================] - 56s 2s/step - loss: 0.0395 - accuracy: 0.9855 - auc: 0.9992 - val_loss: 0.0348 - val_accuracy: 0.9937 - val_auc: 0.9964\n",
            "Epoch 5/50\n",
            "33/33 [==============================] - 65s 2s/step - loss: 0.0477 - accuracy: 0.9845 - auc: 0.9979 - val_loss: 0.0268 - val_accuracy: 0.9937 - val_auc: 0.9999\n",
            "Epoch 6/50\n",
            "33/33 [==============================] - 59s 2s/step - loss: 0.0351 - accuracy: 0.9836 - auc: 0.9993 - val_loss: 0.0162 - val_accuracy: 0.9969 - val_auc: 1.0000\n",
            "Epoch 7/50\n",
            "33/33 [==============================] - 59s 2s/step - loss: 0.0235 - accuracy: 0.9874 - auc: 0.9997 - val_loss: 0.0305 - val_accuracy: 0.9937 - val_auc: 0.9993\n",
            "Epoch 8/50\n",
            "33/33 [==============================] - 56s 2s/step - loss: 0.0209 - accuracy: 0.9942 - auc: 0.9997 - val_loss: 0.0118 - val_accuracy: 0.9969 - val_auc: 1.0000\n",
            "Epoch 9/50\n",
            "33/33 [==============================] - 56s 2s/step - loss: 0.0254 - accuracy: 0.9874 - auc: 0.9997 - val_loss: 0.0122 - val_accuracy: 0.9969 - val_auc: 1.0000\n",
            "Epoch 10/50\n",
            "33/33 [==============================] - 56s 2s/step - loss: 0.0184 - accuracy: 0.9952 - auc: 0.9998 - val_loss: 0.0535 - val_accuracy: 0.9749 - val_auc: 0.9995\n",
            "Epoch 11/50\n",
            "33/33 [==============================] - 57s 2s/step - loss: 0.0154 - accuracy: 0.9942 - auc: 0.9999 - val_loss: 0.0077 - val_accuracy: 1.0000 - val_auc: 1.0000\n",
            "Epoch 12/50\n",
            "33/33 [==============================] - 55s 2s/step - loss: 0.0149 - accuracy: 0.9932 - auc: 0.9999 - val_loss: 0.0187 - val_accuracy: 0.9937 - val_auc: 1.0000\n",
            "Epoch 13/50\n",
            "33/33 [==============================] - 56s 2s/step - loss: 0.0210 - accuracy: 0.9952 - auc: 0.9986 - val_loss: 0.0459 - val_accuracy: 0.9875 - val_auc: 0.9989\n",
            "Epoch 14/50\n",
            "33/33 [==============================] - 59s 2s/step - loss: 0.0096 - accuracy: 0.9981 - auc: 1.0000 - val_loss: 0.0210 - val_accuracy: 0.9875 - val_auc: 1.0000\n"
          ]
        }
      ]
    },
    {
      "cell_type": "code",
      "source": [
        "true_labels = test_data.labels\n",
        "pred_labels = np.squeeze(np.array(model.predict(test_data ) >= 0.5, dtype=np.int))\n",
        "\n",
        "cm = confusion_matrix(true_labels, pred_labels)"
      ],
      "metadata": {
        "colab": {
          "base_uri": "https://localhost:8080/"
        },
        "id": "CLBeO0N75a4P",
        "outputId": "96bfefb4-78a6-49f9-fe11-b47246e95950"
      },
      "execution_count": null,
      "outputs": [
        {
          "output_type": "stream",
          "name": "stdout",
          "text": [
            "25/25 [==============================] - 32s 1s/step\n"
          ]
        },
        {
          "output_type": "stream",
          "name": "stderr",
          "text": [
            "<ipython-input-34-5cbc56f3487c>:2: DeprecationWarning: `np.int` is a deprecated alias for the builtin `int`. To silence this warning, use `int` by itself. Doing this will not modify any behavior and is safe. When replacing `np.int`, you may wish to use e.g. `np.int64` or `np.int32` to specify the precision. If you wish to review your current use, check the release note link for additional information.\n",
            "Deprecated in NumPy 1.20; for more details and guidance: https://numpy.org/devdocs/release/1.20.0-notes.html#deprecations\n",
            "  pred_labels = np.squeeze(np.array(model.predict(test_data ) >= 0.5, dtype=np.int))\n"
          ]
        }
      ]
    },
    {
      "cell_type": "code",
      "source": [],
      "metadata": {
        "id": "C23rdttNKoq9"
      },
      "execution_count": null,
      "outputs": []
    },
    {
      "cell_type": "code",
      "source": [
        "test_data.class_indices\n",
        "#Covid and Pneumonia's binary values 0 & 1"
      ],
      "metadata": {
        "colab": {
          "base_uri": "https://localhost:8080/"
        },
        "id": "YHXUczAq5a6Y",
        "outputId": "7e7247f3-a74e-427d-aec7-8b4a6512463f"
      },
      "execution_count": null,
      "outputs": [
        {
          "output_type": "execute_result",
          "data": {
            "text/plain": [
              "{'Covid': 0, 'Pneumonia': 1}"
            ]
          },
          "metadata": {},
          "execution_count": 35
        }
      ]
    },
    {
      "cell_type": "code",
      "source": [
        "plt.figure(figsize=(6,6))\n",
        "sns.heatmap(cm, annot=True, fmt='g', vmin=0, cmap='mako', cbar=False)\n",
        "plt.xticks(range(2), ['Covid','Pneumonia'])\n",
        "plt.yticks(range(2),['Covid','Pneumonia'])\n",
        "plt.show()\n"
      ],
      "metadata": {
        "colab": {
          "base_uri": "https://localhost:8080/",
          "height": 388
        },
        "id": "4DO2irpm5a8R",
        "outputId": "518aed2a-469e-498a-bfc3-4e62275e011e"
      },
      "execution_count": null,
      "outputs": [
        {
          "output_type": "display_data",
          "data": {
            "text/plain": [
              "<Figure size 432x432 with 1 Axes>"
            ],
            "image/png": "[encoded data removed]"
          },
          "metadata": {
            "needs_background": "light"
          }
        }
      ]
    },
    {
      "cell_type": "code",
      "source": [
        "results = model.evaluate(test_data, verbose=0)\n",
        "\n",
        "accuracy = results[1]\n",
        "auc = results[2]"
      ],
      "metadata": {
        "id": "gqf92mf_5a_G"
      },
      "execution_count": null,
      "outputs": []
    },
    {
      "cell_type": "code",
      "source": [
        "tn, fp, fn, tp = cm.ravel()\n",
        "\n",
        "precision = tp / (tp+fp)\n",
        "recall = tp / (tp+fn)\n",
        "\n",
        "#Accuracy, precision and recall values"
      ],
      "metadata": {
        "id": "Se3O3ch_5l3-"
      },
      "execution_count": null,
      "outputs": []
    },
    {
      "cell_type": "code",
      "source": [
        "print(\"Accuracy: {:.2f}\".format(accuracy))\n",
        "print(\"AUC: {:.2f}\".format(auc))\n",
        "print(\"Precision: {:.2f}\".format(precision))\n",
        "print(\"Recall: {:.2f}\".format(recall))"
      ],
      "metadata": {
        "colab": {
          "base_uri": "https://localhost:8080/"
        },
        "id": "_J2Od2775l6A",
        "outputId": "2a6d1635-dcf2-4ac0-b435-c52269e65ec3"
      },
      "execution_count": null,
      "outputs": [
        {
          "output_type": "stream",
          "name": "stdout",
          "text": [
            "Accuracy: 1.00\n",
            "AUC: 1.00\n",
            "Precision: 0.43\n",
            "Recall: 0.43\n"
          ]
        }
      ]
    },
    {
      "cell_type": "code",
      "source": [],
      "metadata": {
        "id": "4-zs0wFJ5l8F"
      },
      "execution_count": null,
      "outputs": []
    },
    {
      "cell_type": "code",
      "source": [
        "import cv2"
      ],
      "metadata": {
        "id": "eeo8YyBH5l9_"
      },
      "execution_count": null,
      "outputs": []
    },
    {
      "cell_type": "code",
      "source": [
        "import random\n",
        "path = 'drive/MyDrive/CMPE460/Random/'\n",
        "file = random.choice(os.listdir(\"drive/MyDrive/CMPE460/Random/\"))\n",
        "capture = cv2.imread(os.path.join(path,file))\n",
        "\n",
        "\n",
        "plt.imshow(capture)\n",
        "\n",
        "\n",
        "\n",
        "\n",
        "plt.imshow(resize.numpy().astype(int))\n",
        "plt.show()\n",
        "\n",
        "print(file)"
      ],
      "metadata": {
        "colab": {
          "base_uri": "https://localhost:8080/",
          "height": 235
        },
        "id": "Mxaoj8t6vkBZ",
        "outputId": "8c7f6674-646d-40ca-bbd3-fcb61fa8169a"
      },
      "execution_count": null,
      "outputs": [
        {
          "output_type": "error",
          "ename": "NameError",
          "evalue": "ignored",
          "traceback": [
            "\u001b[0;31m---------------------------------------------------------------------------\u001b[0m",
            "\u001b[0;31mNameError\u001b[0m                                 Traceback (most recent call last)",
            "\u001b[0;32m<ipython-input-1-e04eeb3657c9>\u001b[0m in \u001b[0;36m<module>\u001b[0;34m\u001b[0m\n\u001b[1;32m      1\u001b[0m \u001b[0;32mimport\u001b[0m \u001b[0mrandom\u001b[0m\u001b[0;34m\u001b[0m\u001b[0;34m\u001b[0m\u001b[0m\n\u001b[1;32m      2\u001b[0m \u001b[0mpath\u001b[0m \u001b[0;34m=\u001b[0m \u001b[0;34m'drive/MyDrive/CMPE460/Random/'\u001b[0m\u001b[0;34m\u001b[0m\u001b[0;34m\u001b[0m\u001b[0m\n\u001b[0;32m----> 3\u001b[0;31m \u001b[0mfile\u001b[0m \u001b[0;34m=\u001b[0m \u001b[0mrandom\u001b[0m\u001b[0;34m.\u001b[0m\u001b[0mchoice\u001b[0m\u001b[0;34m(\u001b[0m\u001b[0mos\u001b[0m\u001b[0;34m.\u001b[0m\u001b[0mlistdir\u001b[0m\u001b[0;34m(\u001b[0m\u001b[0;34m\"drive/MyDrive/CMPE460/Random/\"\u001b[0m\u001b[0;34m)\u001b[0m\u001b[0;34m)\u001b[0m\u001b[0;34m\u001b[0m\u001b[0;34m\u001b[0m\u001b[0m\n\u001b[0m\u001b[1;32m      4\u001b[0m \u001b[0mcapture\u001b[0m \u001b[0;34m=\u001b[0m \u001b[0mcv2\u001b[0m\u001b[0;34m.\u001b[0m\u001b[0mimread\u001b[0m\u001b[0;34m(\u001b[0m\u001b[0mos\u001b[0m\u001b[0;34m.\u001b[0m\u001b[0mpath\u001b[0m\u001b[0;34m.\u001b[0m\u001b[0mjoin\u001b[0m\u001b[0;34m(\u001b[0m\u001b[0mpath\u001b[0m\u001b[0;34m,\u001b[0m\u001b[0mfile\u001b[0m\u001b[0;34m)\u001b[0m\u001b[0;34m)\u001b[0m\u001b[0;34m\u001b[0m\u001b[0;34m\u001b[0m\u001b[0m\n\u001b[1;32m      5\u001b[0m \u001b[0;34m\u001b[0m\u001b[0m\n",
            "\u001b[0;31mNameError\u001b[0m: name 'os' is not defined"
          ]
        }
      ]
    },
    {
      "cell_type": "code",
      "source": [
        "yhat = model.predict(np.expand_dims(resize/255, 0))\n",
        "\n",
        "\n",
        "\n",
        "if yhat > 0.5: \n",
        "    print('Predicted class is Pnemonia')\n",
        "else:\n",
        "    print('Predicted class is Covid')"
      ],
      "metadata": {
        "colab": {
          "base_uri": "https://localhost:8080/"
        },
        "id": "V6gD96nFvkEb",
        "outputId": "c542e2d1-d4e6-48f2-8b09-e92ecb6f3cbf"
      },
      "execution_count": null,
      "outputs": [
        {
          "output_type": "stream",
          "name": "stdout",
          "text": [
            "1/1 [==============================] - 0s 61ms/step\n",
            "Predicted class is Covid\n"
          ]
        }
      ]
    },
    {
      "cell_type": "code",
      "source": [],
      "metadata": {
        "id": "5tHJF8UYMihp"
      },
      "execution_count": null,
      "outputs": []
    },
    {
      "cell_type": "code",
      "source": [],
      "metadata": {
        "id": "IWHUr0dLNNqM"
      },
      "execution_count": null,
      "outputs": []
    },
    {
      "cell_type": "code",
      "source": [],
      "metadata": {
        "colab": {
          "base_uri": "https://localhost:8080/"
        },
        "id": "-wxuIixONNsA",
        "outputId": "91ea2a6f-0674-4606-adc6-4e9d71bfc48f"
      },
      "execution_count": null,
      "outputs": [
        {
          "output_type": "stream",
          "name": "stdout",
          "text": [
            "Reading package lists... Done\n",
            "Building dependency tree       \n",
            "Reading state information... Done\n",
            "The following NEW packages will be installed:\n",
            "  xvfb\n",
            "0 upgraded, 1 newly installed, 0 to remove and 23 not upgraded.\n",
            "Need to get 780 kB of archives.\n",
            "After this operation, 2,271 kB of additional disk space will be used.\n",
            "Get:1 http://archive.ubuntu.com/ubuntu focal-updates/universe amd64 xvfb amd64 2:1.20.13-1ubuntu1~20.04.5 [780 kB]\n",
            "Fetched 780 kB in 1s (618 kB/s)\n",
            "Selecting previously unselected package xvfb.\n",
            "(Reading database ... 129501 files and directories currently installed.)\n",
            "Preparing to unpack .../xvfb_2%3a1.20.13-1ubuntu1~20.04.5_amd64.deb ...\n",
            "Unpacking xvfb (2:1.20.13-1ubuntu1~20.04.5) ...\n",
            "Setting up xvfb (2:1.20.13-1ubuntu1~20.04.5) ...\n",
            "Processing triggers for man-db (2.9.1-1) ...\n"
          ]
        }
      ]
    },
    {
      "cell_type": "code",
      "source": [],
      "metadata": {
        "id": "yDD5xWmNMij1"
      },
      "execution_count": null,
      "outputs": []
    },
    {
      "cell_type": "code",
      "source": [],
      "metadata": {
        "id": "kKrdi5LGMimD"
      },
      "execution_count": null,
      "outputs": []
    },
    {
      "cell_type": "code",
      "source": [],
      "metadata": {
        "id": "9IPe1u1QMinr"
      },
      "execution_count": null,
      "outputs": []
    }
  ]
}